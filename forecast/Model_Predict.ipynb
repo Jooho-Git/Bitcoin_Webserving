{
  "nbformat": 4,
  "nbformat_minor": 0,
  "metadata": {
    "colab": {
      "name": "Model_Predict.ipynb",
      "provenance": [],
      "collapsed_sections": []
    },
    "kernelspec": {
      "name": "python3",
      "display_name": "Python 3"
    },
    "language_info": {
      "name": "python"
    },
    "accelerator": "GPU",
    "gpuClass": "standard"
  },
  "cells": [
    {
      "cell_type": "code",
      "source": [
        "from google.colab import drive\n",
        "drive.mount('/content/drive')"
      ],
      "metadata": {
        "colab": {
          "base_uri": "https://localhost:8080/"
        },
        "id": "QMtS4SAI1tcx",
        "outputId": "12bcdd9b-90a6-4226-cb2e-ce8b970a720f"
      },
      "execution_count": null,
      "outputs": [
        {
          "output_type": "stream",
          "name": "stdout",
          "text": [
            "Mounted at /content/drive\n"
          ]
        }
      ]
    },
    {
      "cell_type": "code",
      "execution_count": null,
      "metadata": {
        "colab": {
          "base_uri": "https://localhost:8080/"
        },
        "id": "ESaVaHfpAv2i",
        "outputId": "d1353d3c-1ed7-4666-cb94-04d52fff5a62"
      },
      "outputs": [
        {
          "output_type": "stream",
          "name": "stdout",
          "text": [
            "Looking in indexes: https://pypi.org/simple, https://us-python.pkg.dev/colab-wheels/public/simple/\n",
            "Collecting pyupbit\n",
            "  Downloading pyupbit-0.2.33-py3-none-any.whl (24 kB)\n",
            "Requirement already satisfied: requests in /usr/local/lib/python3.7/dist-packages (from pyupbit) (2.23.0)\n",
            "Collecting pyjwt>=2.0.0\n",
            "  Downloading PyJWT-2.4.0-py3-none-any.whl (18 kB)\n",
            "Requirement already satisfied: pandas in /usr/local/lib/python3.7/dist-packages (from pyupbit) (1.3.5)\n",
            "Collecting websockets\n",
            "  Downloading websockets-10.3-cp37-cp37m-manylinux_2_5_x86_64.manylinux1_x86_64.manylinux_2_12_x86_64.manylinux2010_x86_64.whl (112 kB)\n",
            "\u001b[K     |████████████████████████████████| 112 kB 7.9 MB/s \n",
            "\u001b[?25hRequirement already satisfied: pytz>=2017.3 in /usr/local/lib/python3.7/dist-packages (from pandas->pyupbit) (2022.1)\n",
            "Requirement already satisfied: python-dateutil>=2.7.3 in /usr/local/lib/python3.7/dist-packages (from pandas->pyupbit) (2.8.2)\n",
            "Requirement already satisfied: numpy>=1.17.3 in /usr/local/lib/python3.7/dist-packages (from pandas->pyupbit) (1.21.6)\n",
            "Requirement already satisfied: six>=1.5 in /usr/local/lib/python3.7/dist-packages (from python-dateutil>=2.7.3->pandas->pyupbit) (1.15.0)\n",
            "Requirement already satisfied: idna<3,>=2.5 in /usr/local/lib/python3.7/dist-packages (from requests->pyupbit) (2.10)\n",
            "Requirement already satisfied: urllib3!=1.25.0,!=1.25.1,<1.26,>=1.21.1 in /usr/local/lib/python3.7/dist-packages (from requests->pyupbit) (1.24.3)\n",
            "Requirement already satisfied: chardet<4,>=3.0.2 in /usr/local/lib/python3.7/dist-packages (from requests->pyupbit) (3.0.4)\n",
            "Requirement already satisfied: certifi>=2017.4.17 in /usr/local/lib/python3.7/dist-packages (from requests->pyupbit) (2022.6.15)\n",
            "Installing collected packages: websockets, pyjwt, pyupbit\n",
            "Successfully installed pyjwt-2.4.0 pyupbit-0.2.33 websockets-10.3\n",
            "Looking in indexes: https://pypi.org/simple, https://us-python.pkg.dev/colab-wheels/public/simple/\n",
            "Collecting mpl_finance\n",
            "  Downloading mpl_finance-0.10.1-py3-none-any.whl (8.4 kB)\n",
            "Requirement already satisfied: matplotlib in /usr/local/lib/python3.7/dist-packages (from mpl_finance) (3.2.2)\n",
            "Requirement already satisfied: kiwisolver>=1.0.1 in /usr/local/lib/python3.7/dist-packages (from matplotlib->mpl_finance) (1.4.3)\n",
            "Requirement already satisfied: python-dateutil>=2.1 in /usr/local/lib/python3.7/dist-packages (from matplotlib->mpl_finance) (2.8.2)\n",
            "Requirement already satisfied: cycler>=0.10 in /usr/local/lib/python3.7/dist-packages (from matplotlib->mpl_finance) (0.11.0)\n",
            "Requirement already satisfied: numpy>=1.11 in /usr/local/lib/python3.7/dist-packages (from matplotlib->mpl_finance) (1.21.6)\n",
            "Requirement already satisfied: pyparsing!=2.0.4,!=2.1.2,!=2.1.6,>=2.0.1 in /usr/local/lib/python3.7/dist-packages (from matplotlib->mpl_finance) (3.0.9)\n",
            "Requirement already satisfied: typing-extensions in /usr/local/lib/python3.7/dist-packages (from kiwisolver>=1.0.1->matplotlib->mpl_finance) (4.1.1)\n",
            "Requirement already satisfied: six>=1.5 in /usr/local/lib/python3.7/dist-packages (from python-dateutil>=2.1->matplotlib->mpl_finance) (1.15.0)\n",
            "Installing collected packages: mpl-finance\n",
            "Successfully installed mpl-finance-0.10.1\n"
          ]
        }
      ],
      "source": [
        "!pip install pyupbit\n",
        "! pip install mpl_finance\n",
        "import pyupbit\n",
        "import mpl_finance"
      ]
    },
    {
      "cell_type": "code",
      "source": [
        "! pip install -U kaleido\n",
        "! pip install psutil\n",
        "! pip install utils\n",
        "! conda install -c plotly plotly-orca psutil"
      ],
      "metadata": {
        "colab": {
          "base_uri": "https://localhost:8080/"
        },
        "id": "WYHhe5OQmE2S",
        "outputId": "de1ac1d3-b01f-44e6-9f7f-ddbc8bab2af6"
      },
      "execution_count": null,
      "outputs": [
        {
          "output_type": "stream",
          "name": "stdout",
          "text": [
            "Looking in indexes: https://pypi.org/simple, https://us-python.pkg.dev/colab-wheels/public/simple/\n",
            "Collecting kaleido\n",
            "  Downloading kaleido-0.2.1-py2.py3-none-manylinux1_x86_64.whl (79.9 MB)\n",
            "\u001b[K     |████████████████████████████████| 79.9 MB 119 kB/s \n",
            "\u001b[?25hInstalling collected packages: kaleido\n",
            "Successfully installed kaleido-0.2.1\n",
            "Looking in indexes: https://pypi.org/simple, https://us-python.pkg.dev/colab-wheels/public/simple/\n",
            "Requirement already satisfied: psutil in /usr/local/lib/python3.7/dist-packages (5.4.8)\n",
            "Looking in indexes: https://pypi.org/simple, https://us-python.pkg.dev/colab-wheels/public/simple/\n",
            "Collecting utils\n",
            "  Downloading utils-1.0.1-py2.py3-none-any.whl (21 kB)\n",
            "Installing collected packages: utils\n",
            "Successfully installed utils-1.0.1\n",
            "/bin/bash: conda: command not found\n"
          ]
        }
      ]
    },
    {
      "cell_type": "code",
      "execution_count": null,
      "metadata": {
        "id": "ytWHEShqaxlq"
      },
      "outputs": [],
      "source": [
        "%matplotlib inline\n",
        "import warnings\n",
        "\n",
        "import matplotlib.pyplot as plt\n",
        "import numpy as np\n",
        "import pandas as pd\n",
        "import torch\n",
        "from torch import optim\n",
        "from torch.nn import functional as F\n",
        "import os \n",
        "\n",
        "# from nbeats_pytorch.model import NBeatsNet\n",
        "# from trainer_pytorch import save\n",
        "\n",
        "warnings.filterwarnings(action='ignore', message='Setting attributes')\n",
        "from progressbar import *\n",
        "import plotly.express as px\n",
        "import plotly.io as pio\n",
        "import kaleido\n",
        "from plotly.subplots import make_subplots\n",
        "import plotly.graph_objects as go\n",
        "from scipy.stats import norm\n",
        "from scipy.stats import t"
      ]
    },
    {
      "cell_type": "markdown",
      "source": [
        "# 데이터 predict\n",
        "- 현재 경로에 scaler.pkl 파일과 학습된 모델 model.pth 파일이 있어야함. "
      ],
      "metadata": {
        "id": "xg-E6djbeRXY"
      }
    },
    {
      "cell_type": "markdown",
      "source": [
        "### Model class"
      ],
      "metadata": {
        "id": "4UO17IhlfYrV"
      }
    },
    {
      "cell_type": "code",
      "source": [
        "# Model Class\n",
        "import pickle\n",
        "import random\n",
        "import numpy as np\n",
        "import torch\n",
        "from torch import nn, optim\n",
        "from torch.nn import functional as F\n",
        "from torch.optim import Optimizer\n",
        "\n",
        "class NBeatsNet(nn.Module):\n",
        "    SEASONALITY_BLOCK = 'seasonality'\n",
        "    TREND_BLOCK = 'trend'\n",
        "    GENERIC_BLOCK = 'generic'\n",
        "\n",
        "    def __init__(self,\n",
        "                 device=torch.device('cpu'),\n",
        "                 stack_types=(TREND_BLOCK, SEASONALITY_BLOCK),\n",
        "                 nb_blocks_per_stack=3,\n",
        "                 forecast_length=5,\n",
        "                 backcast_length=10,\n",
        "                 thetas_dim=(4, 8),\n",
        "                 share_weights_in_stack=False,\n",
        "                 hidden_layer_units=256,\n",
        "                 nb_harmonics=None,\n",
        "                 dropout_rate=0.3):\n",
        "        super(NBeatsNet, self).__init__()\n",
        "        self.forecast_length = forecast_length\n",
        "        self.backcast_length = backcast_length\n",
        "        self.hidden_layer_units = hidden_layer_units\n",
        "        self.nb_blocks_per_stack = nb_blocks_per_stack\n",
        "        self.share_weights_in_stack = share_weights_in_stack\n",
        "        self.nb_harmonics = nb_harmonics\n",
        "        self.dropout_rate = dropout_rate\n",
        "        self.stack_types = stack_types\n",
        "        self.stacks = []\n",
        "        self.thetas_dim = thetas_dim\n",
        "        self.parameters = []\n",
        "        self.device = device\n",
        "        print('| N-Beats')\n",
        "        for stack_id in range(len(self.stack_types)):\n",
        "            self.stacks.append(self.create_stack(stack_id))\n",
        "        self.parameters = nn.ParameterList(self.parameters)\n",
        "        self.to(self.device)\n",
        "        self._loss = None\n",
        "        self._opt = None\n",
        "\n",
        "    def create_stack(self, stack_id):\n",
        "        stack_type = self.stack_types[stack_id]\n",
        "        print(f'| --  Stack {stack_type.title()} (#{stack_id}) (share_weights_in_stack={self.share_weights_in_stack})')\n",
        "        blocks = []\n",
        "        for block_id in range(self.nb_blocks_per_stack):\n",
        "            block_init = NBeatsNet.select_block(stack_type)\n",
        "            if self.share_weights_in_stack and block_id != 0:\n",
        "                block = blocks[-1]  # pick up the last one when we share weights.\n",
        "            else:\n",
        "                block = block_init(self.hidden_layer_units, self.thetas_dim[stack_id],\n",
        "                                   self.device, self.backcast_length, self.forecast_length, self.nb_harmonics)\n",
        "                self.parameters.extend(block.parameters())\n",
        "            print(f'     | -- {block}')\n",
        "            blocks.append(block)\n",
        "        return blocks\n",
        "\n",
        "    def save(self, filename: str):\n",
        "        torch.save(self, filename)\n",
        "\n",
        "    @staticmethod\n",
        "    def load(f, map_location=None, pickle_module=pickle, **pickle_load_args):\n",
        "        return torch.load(f, map_location, pickle_module, **pickle_load_args)\n",
        "\n",
        "    @staticmethod\n",
        "    def select_block(block_type):\n",
        "        if block_type == NBeatsNet.SEASONALITY_BLOCK:\n",
        "            return SeasonalityBlock\n",
        "        elif block_type == NBeatsNet.TREND_BLOCK:\n",
        "            return TrendBlock\n",
        "        else:\n",
        "            return GenericBlock\n",
        "\n",
        "\n",
        "    def forward(self, backcast):\n",
        "        backcast = squeeze_last_dim(backcast)\n",
        "        forecast = torch.zeros(size=(backcast.size()[0], self.forecast_length,))  # maybe batch size here.\n",
        "        \n",
        "        trend_forecast = torch.zeros(size=(backcast.size()[0], self.forecast_length,))\n",
        "        seasonal_forecast = torch.zeros(size=(backcast.size()[0], self.forecast_length,))\n",
        "\n",
        "        for stack_id in range(len(self.stacks)):\n",
        "            for block_id in range(len(self.stacks[stack_id])):\n",
        "                b, f = self.stacks[stack_id][block_id](backcast)\n",
        "                backcast = backcast.to(self.device) - b\n",
        "                forecast = forecast.to(self.device) + f\n",
        "                if type(self.stacks[stack_id][block_id]).__name__ == 'TrendBlock':\n",
        "                    trend_forecast = trend_forecast.to(self.device) + f\n",
        "                elif type(self.stacks[stack_id][block_id]).__name__ == 'SeasonalityBlock':\n",
        "                    seasonal_forecast = seasonal_forecast.to(self.device) + f\n",
        "\n",
        "        return backcast, forecast, trend_forecast, seasonal_forecast\n",
        "\n",
        "\n",
        "def squeeze_last_dim(tensor):\n",
        "    if len(tensor.shape) == 3 and tensor.shape[-1] == 1:  # (128, 10, 1) => (128, 10).\n",
        "        return tensor[..., 0]\n",
        "    return tensor\n",
        "\n",
        "\n",
        "def seasonality_model(thetas, t, device):\n",
        "    p = thetas.size()[-1]\n",
        "    assert p <= thetas.shape[1], 'thetas_dim is too big.'\n",
        "    p1, p2 = (p // 2, p // 2) if p % 2 == 0 else (p // 2, p // 2 + 1)\n",
        "    s1 = torch.tensor([np.cos(2 * np.pi * i * t) for i in range(p1)]).float()  # H/2-1\n",
        "    s2 = torch.tensor([np.sin(2 * np.pi * i * t) for i in range(p2)]).float()\n",
        "    S = torch.cat([s1, s2])\n",
        "    return thetas.mm(S.to(device))\n",
        "\n",
        "\n",
        "def trend_model(thetas, t, device):\n",
        "    p = thetas.size()[-1]\n",
        "    assert p <= 4, 'thetas_dim is too big.'\n",
        "    T = torch.tensor([t ** i for i in range(p)]).float()\n",
        "    return thetas.mm(T.to(device))\n",
        "\n",
        "\n",
        "def linear_space(backcast_length, forecast_length, is_forecast=True):\n",
        "    horizon = forecast_length if is_forecast else backcast_length\n",
        "    return np.arange(0, horizon) / horizon\n",
        "\n",
        "\n",
        "class Block(nn.Module):\n",
        "\n",
        "    def __init__(self, units, thetas_dim, device, backcast_length=10, forecast_length=5, share_thetas=False,\n",
        "                 nb_harmonics=None, dropout_rate=0.2):\n",
        "        super(Block, self).__init__()\n",
        "        self.units = units\n",
        "        self.thetas_dim = thetas_dim\n",
        "        self.backcast_length = backcast_length\n",
        "        self.forecast_length = forecast_length\n",
        "        self.share_thetas = share_thetas\n",
        "        self.fc1 = nn.Linear(backcast_length, units)\n",
        "        self.fc2 = nn.Linear(units, units)\n",
        "        self.fc3 = nn.Linear(units, units)\n",
        "        self.fc4 = nn.Linear(units, units)\n",
        "        self.dropout = nn.Dropout(dropout_rate)  # dropout 추가 => 랜덤성 부여 효과를 볼 수 있음.  \n",
        "        self.device = device\n",
        "        self.backcast_linspace = linear_space(backcast_length, forecast_length, is_forecast=False)\n",
        "        self.forecast_linspace = linear_space(backcast_length, forecast_length, is_forecast=True)\n",
        "        if share_thetas:\n",
        "            self.theta_f_fc = self.theta_b_fc = nn.Linear(units, thetas_dim, bias=False)\n",
        "        else:\n",
        "            self.theta_b_fc = nn.Linear(units, thetas_dim, bias=False)\n",
        "            self.theta_f_fc = nn.Linear(units, thetas_dim, bias=False)\n",
        "\n",
        "    def forward(self, x):\n",
        "        x = squeeze_last_dim(x)\n",
        "        x = F.relu(self.fc1(x.to(self.device)))\n",
        "        x = self.dropout(x)  # add dropout \n",
        "        x = F.relu(self.fc2(x))\n",
        "        x = self.dropout(x)  # add dropout \n",
        "        x = F.relu(self.fc3(x))\n",
        "        x = self.dropout(x)  # add dropout \n",
        "        x = F.relu(self.fc4(x))\n",
        "        return x\n",
        "\n",
        "    def __str__(self):\n",
        "        block_type = type(self).__name__\n",
        "        return f'{block_type}(units={self.units}, thetas_dim={self.thetas_dim}, ' \\\n",
        "               f'backcast_length={self.backcast_length}, forecast_length={self.forecast_length}, ' \\\n",
        "               f'share_thetas={self.share_thetas}) at @{id(self)}'\n",
        "\n",
        "\n",
        "class SeasonalityBlock(Block):\n",
        "\n",
        "    def __init__(self, units, thetas_dim, device, backcast_length=10, forecast_length=5, nb_harmonics=None):\n",
        "        if nb_harmonics:\n",
        "            super(SeasonalityBlock, self).__init__(units, nb_harmonics, device, backcast_length,\n",
        "                                                   forecast_length, share_thetas=True)\n",
        "        else:\n",
        "            super(SeasonalityBlock, self).__init__(units, forecast_length, device, backcast_length,\n",
        "                                                   forecast_length, share_thetas=True)\n",
        "\n",
        "    def forward(self, x):\n",
        "        x = super(SeasonalityBlock, self).forward(x)\n",
        "        backcast = seasonality_model(self.theta_b_fc(x), self.backcast_linspace, self.device)\n",
        "        forecast = seasonality_model(self.theta_f_fc(x), self.forecast_linspace, self.device)\n",
        "        return backcast, forecast\n",
        "\n",
        "\n",
        "class TrendBlock(Block):\n",
        "\n",
        "    def __init__(self, units, thetas_dim, device, backcast_length=10, forecast_length=5, nb_harmonics=None):\n",
        "        super(TrendBlock, self).__init__(units, thetas_dim, device, backcast_length,\n",
        "                                         forecast_length, share_thetas=True)\n",
        "\n",
        "    def forward(self, x):\n",
        "        x = super(TrendBlock, self).forward(x)\n",
        "        backcast = trend_model(self.theta_b_fc(x), self.backcast_linspace, self.device)\n",
        "        forecast = trend_model(self.theta_f_fc(x), self.forecast_linspace, self.device)\n",
        "        return backcast, forecast\n",
        "\n",
        "\n",
        "class GenericBlock(Block):\n",
        "\n",
        "    def __init__(self, units, thetas_dim, device, backcast_length=10, forecast_length=5, nb_harmonics=None):\n",
        "        super(GenericBlock, self).__init__(units, thetas_dim, device, backcast_length, forecast_length)\n",
        "\n",
        "        self.backcast_fc = nn.Linear(thetas_dim, backcast_length)\n",
        "        self.forecast_fc = nn.Linear(thetas_dim, forecast_length)\n",
        "\n",
        "    def forward(self, x):\n",
        "        # no constraint for generic arch.\n",
        "        x = super(GenericBlock, self).forward(x)\n",
        "\n",
        "        theta_b = self.theta_b_fc(x)\n",
        "        theta_f = self.theta_f_fc(x)\n",
        "\n",
        "        backcast = self.backcast_fc(theta_b)  # generic. 3.3.\n",
        "        forecast = self.forecast_fc(theta_f)  # generic. 3.3.\n",
        "\n",
        "        return backcast, forecast"
      ],
      "metadata": {
        "id": "MU4xsAAEfJcg"
      },
      "execution_count": null,
      "outputs": []
    },
    {
      "cell_type": "markdown",
      "source": [
        "### 전처리"
      ],
      "metadata": {
        "id": "PVS1bwcz5_Hd"
      }
    },
    {
      "cell_type": "code",
      "source": [
        "window_size = 50 # 모델 학습시 input_window 50으로 학습함.\n",
        "yscaler = pickle.load(open('/content/drive/MyDrive/2022 컨퍼/scaler.pkl', 'rb'))"
      ],
      "metadata": {
        "colab": {
          "base_uri": "https://localhost:8080/"
        },
        "id": "ONQJKfwFfhrB",
        "outputId": "2de406a8-48f6-48ca-a4dc-4cc00187293f"
      },
      "execution_count": null,
      "outputs": [
        {
          "output_type": "stream",
          "name": "stderr",
          "text": [
            "/usr/local/lib/python3.7/dist-packages/sklearn/base.py:338: UserWarning:\n",
            "\n",
            "Trying to unpickle estimator StandardScaler from version 1.1.1 when using version 1.0.2. This might lead to breaking code or invalid results. Use at your own risk. For more info please refer to:\n",
            "https://scikit-learn.org/stable/modules/model_persistence.html#security-maintainability-limitations\n",
            "\n"
          ]
        }
      ]
    },
    {
      "cell_type": "code",
      "source": [
        "data_tmp = pyupbit.get_ohlcv(\"KRW-BTC\", interval=\"minute5\", count=200)     # 5분봉 데이터\n",
        "data_tmp.reset_index(inplace=True)"
      ],
      "metadata": {
        "id": "u2LWiaHACh6r"
      },
      "execution_count": null,
      "outputs": []
    },
    {
      "cell_type": "code",
      "source": [
        "data_tmp.rename(columns={'index':'date'}, inplace=True)\n",
        "data_tmp = data_tmp[['date', 'close']]\n",
        "data_tmp.set_index('date', inplace=True)"
      ],
      "metadata": {
        "id": "RQhW1qRQrxdR"
      },
      "execution_count": null,
      "outputs": []
    },
    {
      "cell_type": "code",
      "source": [
        "data_tmp = data_tmp.iloc[-window_size:, :]\n",
        "data_tmp.shape"
      ],
      "metadata": {
        "colab": {
          "base_uri": "https://localhost:8080/"
        },
        "id": "qhT0EigfedFP",
        "outputId": "a1b2aa50-ae79-4e47-c0cd-566e1f47ca54"
      },
      "execution_count": null,
      "outputs": [
        {
          "output_type": "execute_result",
          "data": {
            "text/plain": [
              "(50, 1)"
            ]
          },
          "metadata": {},
          "execution_count": 294
        }
      ]
    },
    {
      "cell_type": "code",
      "source": [
        "# scaling \n",
        "tmp = yscaler.transform(np.array(data_tmp['close']).reshape(-1, 1))\n",
        "data_tmp['close'] = tmp\n",
        "data_tmp.head()"
      ],
      "metadata": {
        "colab": {
          "base_uri": "https://localhost:8080/",
          "height": 381
        },
        "id": "UmB2Bj8nq4vf",
        "outputId": "f087ad8b-4e2a-4585-8ac5-68f1831bd4d9"
      },
      "execution_count": null,
      "outputs": [
        {
          "output_type": "stream",
          "name": "stderr",
          "text": [
            "/usr/local/lib/python3.7/dist-packages/ipykernel_launcher.py:3: SettingWithCopyWarning:\n",
            "\n",
            "\n",
            "A value is trying to be set on a copy of a slice from a DataFrame.\n",
            "Try using .loc[row_indexer,col_indexer] = value instead\n",
            "\n",
            "See the caveats in the documentation: https://pandas.pydata.org/pandas-docs/stable/user_guide/indexing.html#returning-a-view-versus-a-copy\n",
            "\n"
          ]
        },
        {
          "output_type": "execute_result",
          "data": {
            "text/plain": [
              "                        close\n",
              "date                         \n",
              "2022-07-07 12:45:00 -1.287953\n",
              "2022-07-07 12:50:00 -1.287824\n",
              "2022-07-07 12:55:00 -1.285115\n",
              "2022-07-07 13:00:00 -1.285760\n",
              "2022-07-07 13:05:00 -1.289244"
            ],
            "text/html": [
              "\n",
              "  <div id=\"df-72643074-e383-4c62-9511-46b6f18c5e02\">\n",
              "    <div class=\"colab-df-container\">\n",
              "      <div>\n",
              "<style scoped>\n",
              "    .dataframe tbody tr th:only-of-type {\n",
              "        vertical-align: middle;\n",
              "    }\n",
              "\n",
              "    .dataframe tbody tr th {\n",
              "        vertical-align: top;\n",
              "    }\n",
              "\n",
              "    .dataframe thead th {\n",
              "        text-align: right;\n",
              "    }\n",
              "</style>\n",
              "<table border=\"1\" class=\"dataframe\">\n",
              "  <thead>\n",
              "    <tr style=\"text-align: right;\">\n",
              "      <th></th>\n",
              "      <th>close</th>\n",
              "    </tr>\n",
              "    <tr>\n",
              "      <th>date</th>\n",
              "      <th></th>\n",
              "    </tr>\n",
              "  </thead>\n",
              "  <tbody>\n",
              "    <tr>\n",
              "      <th>2022-07-07 12:45:00</th>\n",
              "      <td>-1.287953</td>\n",
              "    </tr>\n",
              "    <tr>\n",
              "      <th>2022-07-07 12:50:00</th>\n",
              "      <td>-1.287824</td>\n",
              "    </tr>\n",
              "    <tr>\n",
              "      <th>2022-07-07 12:55:00</th>\n",
              "      <td>-1.285115</td>\n",
              "    </tr>\n",
              "    <tr>\n",
              "      <th>2022-07-07 13:00:00</th>\n",
              "      <td>-1.285760</td>\n",
              "    </tr>\n",
              "    <tr>\n",
              "      <th>2022-07-07 13:05:00</th>\n",
              "      <td>-1.289244</td>\n",
              "    </tr>\n",
              "  </tbody>\n",
              "</table>\n",
              "</div>\n",
              "      <button class=\"colab-df-convert\" onclick=\"convertToInteractive('df-72643074-e383-4c62-9511-46b6f18c5e02')\"\n",
              "              title=\"Convert this dataframe to an interactive table.\"\n",
              "              style=\"display:none;\">\n",
              "        \n",
              "  <svg xmlns=\"http://www.w3.org/2000/svg\" height=\"24px\"viewBox=\"0 0 24 24\"\n",
              "       width=\"24px\">\n",
              "    <path d=\"M0 0h24v24H0V0z\" fill=\"none\"/>\n",
              "    <path d=\"M18.56 5.44l.94 2.06.94-2.06 2.06-.94-2.06-.94-.94-2.06-.94 2.06-2.06.94zm-11 1L8.5 8.5l.94-2.06 2.06-.94-2.06-.94L8.5 2.5l-.94 2.06-2.06.94zm10 10l.94 2.06.94-2.06 2.06-.94-2.06-.94-.94-2.06-.94 2.06-2.06.94z\"/><path d=\"M17.41 7.96l-1.37-1.37c-.4-.4-.92-.59-1.43-.59-.52 0-1.04.2-1.43.59L10.3 9.45l-7.72 7.72c-.78.78-.78 2.05 0 2.83L4 21.41c.39.39.9.59 1.41.59.51 0 1.02-.2 1.41-.59l7.78-7.78 2.81-2.81c.8-.78.8-2.07 0-2.86zM5.41 20L4 18.59l7.72-7.72 1.47 1.35L5.41 20z\"/>\n",
              "  </svg>\n",
              "      </button>\n",
              "      \n",
              "  <style>\n",
              "    .colab-df-container {\n",
              "      display:flex;\n",
              "      flex-wrap:wrap;\n",
              "      gap: 12px;\n",
              "    }\n",
              "\n",
              "    .colab-df-convert {\n",
              "      background-color: #E8F0FE;\n",
              "      border: none;\n",
              "      border-radius: 50%;\n",
              "      cursor: pointer;\n",
              "      display: none;\n",
              "      fill: #1967D2;\n",
              "      height: 32px;\n",
              "      padding: 0 0 0 0;\n",
              "      width: 32px;\n",
              "    }\n",
              "\n",
              "    .colab-df-convert:hover {\n",
              "      background-color: #E2EBFA;\n",
              "      box-shadow: 0px 1px 2px rgba(60, 64, 67, 0.3), 0px 1px 3px 1px rgba(60, 64, 67, 0.15);\n",
              "      fill: #174EA6;\n",
              "    }\n",
              "\n",
              "    [theme=dark] .colab-df-convert {\n",
              "      background-color: #3B4455;\n",
              "      fill: #D2E3FC;\n",
              "    }\n",
              "\n",
              "    [theme=dark] .colab-df-convert:hover {\n",
              "      background-color: #434B5C;\n",
              "      box-shadow: 0px 1px 3px 1px rgba(0, 0, 0, 0.15);\n",
              "      filter: drop-shadow(0px 1px 2px rgba(0, 0, 0, 0.3));\n",
              "      fill: #FFFFFF;\n",
              "    }\n",
              "  </style>\n",
              "\n",
              "      <script>\n",
              "        const buttonEl =\n",
              "          document.querySelector('#df-72643074-e383-4c62-9511-46b6f18c5e02 button.colab-df-convert');\n",
              "        buttonEl.style.display =\n",
              "          google.colab.kernel.accessAllowed ? 'block' : 'none';\n",
              "\n",
              "        async function convertToInteractive(key) {\n",
              "          const element = document.querySelector('#df-72643074-e383-4c62-9511-46b6f18c5e02');\n",
              "          const dataTable =\n",
              "            await google.colab.kernel.invokeFunction('convertToInteractive',\n",
              "                                                     [key], {});\n",
              "          if (!dataTable) return;\n",
              "\n",
              "          const docLinkHtml = 'Like what you see? Visit the ' +\n",
              "            '<a target=\"_blank\" href=https://colab.research.google.com/notebooks/data_table.ipynb>data table notebook</a>'\n",
              "            + ' to learn more about interactive tables.';\n",
              "          element.innerHTML = '';\n",
              "          dataTable['output_type'] = 'display_data';\n",
              "          await google.colab.output.renderOutput(dataTable, element);\n",
              "          const docLink = document.createElement('div');\n",
              "          docLink.innerHTML = docLinkHtml;\n",
              "          element.appendChild(docLink);\n",
              "        }\n",
              "      </script>\n",
              "    </div>\n",
              "  </div>\n",
              "  "
            ]
          },
          "metadata": {},
          "execution_count": 295
        }
      ]
    },
    {
      "cell_type": "code",
      "source": [
        "Y = data_tmp.iloc[:, 0].values\n",
        "Y = torch.FloatTensor(Y)\n",
        "Y = Y.unsqueeze(-1)\n",
        "Y = Y.unsqueeze(0) # batch_size"
      ],
      "metadata": {
        "id": "f3yGZM3-kYAG"
      },
      "execution_count": null,
      "outputs": []
    },
    {
      "cell_type": "code",
      "source": [
        "Y.shape"
      ],
      "metadata": {
        "colab": {
          "base_uri": "https://localhost:8080/"
        },
        "id": "ZRmBUsHrklT_",
        "outputId": "384afd7d-9b51-4cea-b926-006daa96f600"
      },
      "execution_count": null,
      "outputs": [
        {
          "output_type": "execute_result",
          "data": {
            "text/plain": [
              "torch.Size([1, 50, 1])"
            ]
          },
          "metadata": {},
          "execution_count": 297
        }
      ]
    },
    {
      "cell_type": "markdown",
      "source": [
        "### load model"
      ],
      "metadata": {
        "id": "gJTytse26DUU"
      }
    },
    {
      "cell_type": "code",
      "source": [
        "model = NBeatsNet(stack_types=(NBeatsNet.TREND_BLOCK, NBeatsNet.SEASONALITY_BLOCK),\n",
        "                    forecast_length=25,\n",
        "                    backcast_length=50,\n",
        "                    hidden_layer_units=128,\n",
        "                    )\n",
        "model.load_state_dict(torch.load('/content/drive/MyDrive/2022 컨퍼/model.pth'))"
      ],
      "metadata": {
        "colab": {
          "base_uri": "https://localhost:8080/"
        },
        "id": "gNRP7LrJroo0",
        "outputId": "884d3527-ff97-49f6-f458-b5ae30b959c5"
      },
      "execution_count": null,
      "outputs": [
        {
          "output_type": "stream",
          "name": "stdout",
          "text": [
            "| N-Beats\n",
            "| --  Stack Trend (#0) (share_weights_in_stack=False)\n",
            "     | -- TrendBlock(units=128, thetas_dim=4, backcast_length=50, forecast_length=25, share_thetas=True) at @140007752333136\n",
            "     | -- TrendBlock(units=128, thetas_dim=4, backcast_length=50, forecast_length=25, share_thetas=True) at @140007754848336\n",
            "     | -- TrendBlock(units=128, thetas_dim=4, backcast_length=50, forecast_length=25, share_thetas=True) at @140007756967184\n",
            "| --  Stack Seasonality (#1) (share_weights_in_stack=False)\n",
            "     | -- SeasonalityBlock(units=128, thetas_dim=25, backcast_length=50, forecast_length=25, share_thetas=True) at @140009555368016\n",
            "     | -- SeasonalityBlock(units=128, thetas_dim=25, backcast_length=50, forecast_length=25, share_thetas=True) at @140009555369040\n",
            "     | -- SeasonalityBlock(units=128, thetas_dim=25, backcast_length=50, forecast_length=25, share_thetas=True) at @140007751941648\n"
          ]
        },
        {
          "output_type": "execute_result",
          "data": {
            "text/plain": [
              "<All keys matched successfully>"
            ]
          },
          "metadata": {},
          "execution_count": 298
        }
      ]
    },
    {
      "cell_type": "markdown",
      "source": [
        "### Predict"
      ],
      "metadata": {
        "id": "dXfyR8Hr6NFn"
      }
    },
    {
      "cell_type": "code",
      "source": [
        "def main(sample_size, prediction_size, yscaler):\n",
        "    y_pred = np.zeros((sample_size, prediction_size))\n",
        "    trend = np.zeros((sample_size, prediction_size))\n",
        "    seasonality = np.zeros((sample_size, prediction_size))\n",
        "    for i in range(sample_size):\n",
        "        backcast, pred, trend_forecast, seasonal_forecast = model(Y)\n",
        "        pred = pred.detach().cpu().numpy()\n",
        "        trend_forecast = trend_forecast.detach().cpu().numpy()\n",
        "        seasonal_forecast = seasonal_forecast.detach().cpu().numpy()\n",
        "\n",
        "        y_pred[i,:] = yscaler.inverse_transform(pred)\n",
        "        trend[i,:] = yscaler.inverse_transform(trend_forecast)\n",
        "        seasonality[i,:] = yscaler.inverse_transform(seasonal_forecast)\n",
        "    return y_pred, trend, seasonality\n",
        "\n",
        "true = yscaler.inverse_transform(data_tmp['close'].values.reshape(-1, 1))"
      ],
      "metadata": {
        "id": "rGAY9F7JzKUq"
      },
      "execution_count": null,
      "outputs": []
    },
    {
      "cell_type": "code",
      "source": [
        "y_pred, trend, seasonality = main(30,25,yscaler)"
      ],
      "metadata": {
        "id": "UPMT_hsO-gaJ"
      },
      "execution_count": null,
      "outputs": []
    },
    {
      "cell_type": "code",
      "source": [
        "## 결과값 reshape 및 신뢰구간 구축\n",
        "def confidence_interval(sample, alpha = 0.01):\n",
        "    mean = np.mean(sample, axis=0)\n",
        "    std_error = np.std(sample, axis=0)\n",
        "\n",
        "    max_interval = mean + norm.ppf(alpha/2, loc = 0, scale = 1) * std_error/np.sqrt(len(sample))\n",
        "    min_interval = mean - norm.ppf(alpha/2, loc = 0, scale = 1) * std_error/np.sqrt(len(sample))\n",
        "    \n",
        "    return mean, min_interval, max_interval"
      ],
      "metadata": {
        "id": "9GeA9sFvvLZP"
      },
      "execution_count": null,
      "outputs": []
    },
    {
      "cell_type": "code",
      "source": [
        "def plot_prediction(true, y_pred, trend, seasonality):\n",
        "    fig = make_subplots(\n",
        "    subplot_titles=['True Vs Predicted','Trend','Seasonality'],\n",
        "    rows=2, cols=2,\n",
        "    vertical_spacing=0.1,\n",
        "    horizontal_spacing=0.05,\n",
        "    column_widths=[0.9, 0.6],\n",
        "    row_heights=[0.8, 0.8],\n",
        "    specs=[[{\"rowspan\": 2}, {}], [None, {}]])\n",
        "            \n",
        "    # 99% confidence interval\n",
        "    pred_mean, pred_min_interval, pred_max_interval = confidence_interval(y_pred, 0.05)\n",
        "    trend_mean, trend_min_interval, trend_max_interval = confidence_interval(trend, 0.2)\n",
        "    seasonal_mean, seasonal_min_interval, seasonal_max_interval = confidence_interval(seasonality, 0.2)\n",
        "            \n",
        "    # plot(1,1) - prediction vs real_value\n",
        "    ## CI\n",
        "    fig.add_trace(go.Scatter(name = 'Upper Bound',\n",
        "                             x = pd.period_range(start = data_tmp['close'].index[-1], end = None, periods = 26, freq = '5min').to_timestamp(),\n",
        "                             y = np.concatenate([true.flatten()[-1].reshape(-1), pred_max_interval]),\n",
        "                             mode = 'lines',\n",
        "                             marker = dict(color=\"rgb(179,226,205)\"),\n",
        "                             line = dict(width=0),\n",
        "                             showlegend = False), row=1,col=1)\n",
        "    fig.add_trace(go.Scatter(name = 'Confidence Interval',\n",
        "                             x = pd.period_range(start = data_tmp['close'].index[-1], end = None, periods = 26, freq = '5min').to_timestamp(),\n",
        "                             y = np.concatenate([true.flatten()[-1].reshape(-1), pred_min_interval]),\n",
        "                             marker = dict(color=\"rgb(179,226,205)\"),\n",
        "                             line = dict(width=0),\n",
        "                             mode = 'lines',\n",
        "                             fillcolor = 'rgba(179,226,205,0.7)',\n",
        "                             fill = 'tonexty',\n",
        "                             showlegend = True), row=1,col=1)\n",
        "    ## mean value\n",
        "    fig.add_trace(go.Scatter(x = pd.period_range(start = data_tmp['close'].index[0], end = None, periods = 50, freq = '5min').to_timestamp(),\n",
        "                             y = true.flatten(), name = \"Real value\", line=dict(color=\"#636EFA\")), row=1,col=1)\n",
        "    fig.add_trace(go.Scatter(x = pd.period_range(start = data_tmp['close'].index[-1], end = None, periods = 26, freq = '5min').to_timestamp(), \n",
        "                             y = np.concatenate([true.flatten()[-1].reshape(-1), pred_mean]), name = \"Prediction average\", line=dict(color=\"red\")), row=1,col=1)\n",
        "            \n",
        "    # plot(1,2) - trend\n",
        "    ## CI\n",
        "    fig.add_trace(go.Scatter(name = 'Upper Bound',\n",
        "                             x = pd.period_range(start = data_tmp['close'].index[-1], end = None, periods = 26, freq = '5min').to_timestamp()[1:],\n",
        "                             y = trend_max_interval,\n",
        "                            mode = 'lines',\n",
        "                            marker = dict(color=\"rgb(179,226,205)\"),\n",
        "                            line = dict(width=0),\n",
        "                            showlegend = False), row=1,col=2)\n",
        "    fig.add_trace(go.Scatter(name = 'Confidence Interval',\n",
        "                             x = pd.period_range(start = data_tmp['close'].index[-1], end = None, periods = 26, freq = '5min').to_timestamp()[1:],\n",
        "                             y = trend_min_interval,\n",
        "                             marker = dict(color=\"rgb(179,226,205)\"),\n",
        "                             line = dict(width=0),\n",
        "                             mode = 'lines',\n",
        "                             fillcolor = 'rgba(179,226,205,0.7)',\n",
        "                             fill = 'tonexty',\n",
        "                             showlegend = False), row=1,col=2)\n",
        "    ## mean value\n",
        "    fig.add_trace(go.Scatter(x = pd.period_range(start = data_tmp['close'].index[-1], end = None, periods = 26, freq = '5min').to_timestamp()[1:], \n",
        "                             y = trend_mean, name = \"Trend average\", line=dict(color=\"red\"), showlegend = False), row=1,col=2)\n",
        "            \n",
        "    # plot(2,2) - seasonality\n",
        "    ## CI\n",
        "    fig.add_trace(go.Scatter(name = 'Upper Bound',\n",
        "                             x = pd.period_range(start = data_tmp['close'].index[-1], end = None, periods = 26, freq = '5min').to_timestamp()[1:],\n",
        "                             y = seasonal_max_interval,\n",
        "                             mode = 'lines',\n",
        "                             marker = dict(color=\"rgb(179,226,205)\"),\n",
        "                             line = dict(width=0),\n",
        "                             showlegend = False), row=2,col=2)\n",
        "    fig.add_trace(go.Scatter(name = 'Confidence Interval',\n",
        "                             x = pd.period_range(start = data_tmp['close'].index[-1], end = None, periods = 26, freq = '5min').to_timestamp()[1:],\n",
        "                             y = seasonal_min_interval,\n",
        "                             marker = dict(color=\"rgb(179,226,205)\"),\n",
        "                             line = dict(width=0),\n",
        "                             mode = 'lines',\n",
        "                             fillcolor = 'rgba(179,226,205,0.7)',\n",
        "                             fill = 'tonexty',\n",
        "                             showlegend = False), row=2,col=2)\n",
        "    ## mean value\n",
        "    fig.add_trace(go.Scatter(x = pd.period_range(start = data_tmp['close'].index[-1], end = None, periods = 26, freq = '5min').to_timestamp()[1:], \n",
        "                             y = seasonal_mean, name = \"Seasonality average\", line=dict(color=\"red\"), showlegend = False), row=2,col=2)\n",
        "    # dash line\n",
        "    full_fig = fig.full_figure_for_development()\n",
        "    fig.add_shape(type=\"line\", xref='x', yref='paper',\n",
        "                  x0=list(data_tmp['close'].index)[-1], y0 = full_fig.layout.yaxis.range[0],\n",
        "                  x1=list(data_tmp['close'].index)[-1], y1 = full_fig.layout.yaxis.range[1],\n",
        "                  line=dict(color=\"black\", width=1, dash=\"dash\"),row=1,col=1)\n",
        "\n",
        "    fig.update_layout(height=550, width=1200, title_text=\"Bitcoin Price Prediction\")\n",
        "    fig.update_xaxes(showline=True, linewidth=1, linecolor='black', mirror=True) # 테두리\n",
        "    fig.update_yaxes(showline=True, linewidth=1, linecolor='black', mirror=True) # 테두리\n",
        "    fig.write_html(f'/content/drive/MyDrive/2022_confer_image/nbeats_final_prediction.html')\n",
        "    pio.write_image(fig, f'/content/drive/MyDrive/2022_confer_image/nbeats_final_prediction.png', engine='kaleido')\n",
        "        \n",
        "    fig.show()"
      ],
      "metadata": {
        "id": "8qzFxmAKWJmI"
      },
      "execution_count": null,
      "outputs": []
    },
    {
      "cell_type": "code",
      "source": [
        "plot_prediction(true, y_pred, trend, seasonality)"
      ],
      "metadata": {
        "colab": {
          "base_uri": "https://localhost:8080/",
          "height": 657
        },
        "id": "z-I-4secYnt9",
        "outputId": "c7836765-477a-467b-90af-df40d01ce02b"
      },
      "execution_count": null,
      "outputs": [
        {
          "output_type": "stream",
          "name": "stderr",
          "text": [
            "/usr/local/lib/python3.7/dist-packages/plotly/io/_kaleido.py:341: UserWarning:\n",
            "\n",
            "full_figure_for_development is not recommended or necessary for production use in most circumstances. \n",
            "To suppress this warning, set warn=False\n",
            "\n"
          ]
        },
        {
          "output_type": "display_data",
          "data": {
            "text/html": [
              "<html>\n",
              "<head><meta charset=\"utf-8\" /></head>\n",
              "<body>\n",
              "    <div>            <script src=\"https://cdnjs.cloudflare.com/ajax/libs/mathjax/2.7.5/MathJax.js?config=TeX-AMS-MML_SVG\"></script><script type=\"text/javascript\">if (window.MathJax) {MathJax.Hub.Config({SVG: {font: \"STIX-Web\"}});}</script>                <script type=\"text/javascript\">window.PlotlyConfig = {MathJaxConfig: 'local'};</script>\n",
              "        <script src=\"https://cdn.plot.ly/plotly-2.8.3.min.js\"></script>                <div id=\"668c1b23-a6e3-4fc3-9145-84e1198cc5d6\" class=\"plotly-graph-div\" style=\"height:550px; width:1200px;\"></div>            <script type=\"text/javascript\">                                    window.PLOTLYENV=window.PLOTLYENV || {};                                    if (document.getElementById(\"668c1b23-a6e3-4fc3-9145-84e1198cc5d6\")) {                    Plotly.newPlot(                        \"668c1b23-a6e3-4fc3-9145-84e1198cc5d6\",                        [{\"line\":{\"width\":0},\"marker\":{\"color\":\"rgb(179,226,205)\"},\"mode\":\"lines\",\"name\":\"Upper Bound\",\"showlegend\":false,\"x\":[\"2022-07-07T16:50:00\",\"2022-07-07T16:55:00\",\"2022-07-07T17:00:00\",\"2022-07-07T17:05:00\",\"2022-07-07T17:10:00\",\"2022-07-07T17:15:00\",\"2022-07-07T17:20:00\",\"2022-07-07T17:25:00\",\"2022-07-07T17:30:00\",\"2022-07-07T17:35:00\",\"2022-07-07T17:40:00\",\"2022-07-07T17:45:00\",\"2022-07-07T17:50:00\",\"2022-07-07T17:55:00\",\"2022-07-07T18:00:00\",\"2022-07-07T18:05:00\",\"2022-07-07T18:10:00\",\"2022-07-07T18:15:00\",\"2022-07-07T18:20:00\",\"2022-07-07T18:25:00\",\"2022-07-07T18:30:00\",\"2022-07-07T18:35:00\",\"2022-07-07T18:40:00\",\"2022-07-07T18:45:00\",\"2022-07-07T18:50:00\",\"2022-07-07T18:55:00\"],\"y\":[26812000.0,26761580.265959196,26744971.886512525,26765709.125847425,26760102.082001723,26750071.754809223,26762532.52162158,26734023.982677747,26751784.88491251,26745823.06961079,26734378.720296156,26740928.776287515,26750711.367555473,26738921.8817359,26722253.384702705,26750088.70899587,26730413.050436765,26746931.856607955,26719974.85817299,26750498.860497627,26749377.7926917,26718765.41003747,26742125.604167506,26730015.28703481,26734821.4588609,26742088.48773471],\"type\":\"scatter\",\"xaxis\":\"x\",\"yaxis\":\"y\"},{\"fill\":\"tonexty\",\"fillcolor\":\"rgba(179,226,205,0.7)\",\"line\":{\"width\":0},\"marker\":{\"color\":\"rgb(179,226,205)\"},\"mode\":\"lines\",\"name\":\"Confidence Interval\",\"showlegend\":true,\"x\":[\"2022-07-07T16:50:00\",\"2022-07-07T16:55:00\",\"2022-07-07T17:00:00\",\"2022-07-07T17:05:00\",\"2022-07-07T17:10:00\",\"2022-07-07T17:15:00\",\"2022-07-07T17:20:00\",\"2022-07-07T17:25:00\",\"2022-07-07T17:30:00\",\"2022-07-07T17:35:00\",\"2022-07-07T17:40:00\",\"2022-07-07T17:45:00\",\"2022-07-07T17:50:00\",\"2022-07-07T17:55:00\",\"2022-07-07T18:00:00\",\"2022-07-07T18:05:00\",\"2022-07-07T18:10:00\",\"2022-07-07T18:15:00\",\"2022-07-07T18:20:00\",\"2022-07-07T18:25:00\",\"2022-07-07T18:30:00\",\"2022-07-07T18:35:00\",\"2022-07-07T18:40:00\",\"2022-07-07T18:45:00\",\"2022-07-07T18:50:00\",\"2022-07-07T18:55:00\"],\"y\":[26812000.0,26954226.134040803,27085676.513487473,27073460.340819243,27064358.451331608,27031157.578524113,26966152.945045087,27033345.617322255,27024772.18175416,26965007.99705588,27007985.14637051,27014450.023712482,27026559.565777857,26998124.784930766,27061600.34863063,26975975.29100413,26974211.6162299,26931114.010058712,27104972.60849368,26940212.47283571,26972170.74064163,27040399.789962534,26967795.995832495,27007984.979631856,27052295.47447243,27022342.44559862],\"type\":\"scatter\",\"xaxis\":\"x\",\"yaxis\":\"y\"},{\"line\":{\"color\":\"#636EFA\"},\"name\":\"Real value\",\"x\":[\"2022-07-07T12:45:00\",\"2022-07-07T12:50:00\",\"2022-07-07T12:55:00\",\"2022-07-07T13:00:00\",\"2022-07-07T13:05:00\",\"2022-07-07T13:10:00\",\"2022-07-07T13:15:00\",\"2022-07-07T13:20:00\",\"2022-07-07T13:25:00\",\"2022-07-07T13:30:00\",\"2022-07-07T13:35:00\",\"2022-07-07T13:40:00\",\"2022-07-07T13:45:00\",\"2022-07-07T13:50:00\",\"2022-07-07T13:55:00\",\"2022-07-07T14:00:00\",\"2022-07-07T14:05:00\",\"2022-07-07T14:10:00\",\"2022-07-07T14:15:00\",\"2022-07-07T14:20:00\",\"2022-07-07T14:25:00\",\"2022-07-07T14:30:00\",\"2022-07-07T14:35:00\",\"2022-07-07T14:40:00\",\"2022-07-07T14:45:00\",\"2022-07-07T14:50:00\",\"2022-07-07T14:55:00\",\"2022-07-07T15:00:00\",\"2022-07-07T15:05:00\",\"2022-07-07T15:10:00\",\"2022-07-07T15:15:00\",\"2022-07-07T15:20:00\",\"2022-07-07T15:25:00\",\"2022-07-07T15:30:00\",\"2022-07-07T15:35:00\",\"2022-07-07T15:40:00\",\"2022-07-07T15:45:00\",\"2022-07-07T15:50:00\",\"2022-07-07T15:55:00\",\"2022-07-07T16:00:00\",\"2022-07-07T16:05:00\",\"2022-07-07T16:10:00\",\"2022-07-07T16:15:00\",\"2022-07-07T16:20:00\",\"2022-07-07T16:25:00\",\"2022-07-07T16:30:00\",\"2022-07-07T16:35:00\",\"2022-07-07T16:40:00\",\"2022-07-07T16:45:00\",\"2022-07-07T16:50:00\"],\"y\":[26864000.0,26865000.0,26886000.0,26881000.0,26854000.0,26823000.0,26813000.0,26800000.0,26785000.0,26726000.0,26732000.0,26733000.0,26749000.0,26771000.0,26768000.0,26764000.0,26787000.0,26794000.0,26769000.0,26750000.0,26738000.0,26740000.0,26737000.0,26719000.0,26721000.0,26620000.0,26643000.0,26635000.0,26648000.0,26643000.0,26663000.0,26679000.0,26698000.0,26679000.0,26692000.0,26707000.0,26698000.0,26742000.0,26743000.0,26767000.0,26780000.0,26725000.0,26743000.0,26765000.0,26759000.0,26804000.0,26800000.0,26789000.0,26808000.0,26812000.0],\"type\":\"scatter\",\"xaxis\":\"x\",\"yaxis\":\"y\"},{\"line\":{\"color\":\"red\"},\"name\":\"Prediction average\",\"x\":[\"2022-07-07T16:50:00\",\"2022-07-07T16:55:00\",\"2022-07-07T17:00:00\",\"2022-07-07T17:05:00\",\"2022-07-07T17:10:00\",\"2022-07-07T17:15:00\",\"2022-07-07T17:20:00\",\"2022-07-07T17:25:00\",\"2022-07-07T17:30:00\",\"2022-07-07T17:35:00\",\"2022-07-07T17:40:00\",\"2022-07-07T17:45:00\",\"2022-07-07T17:50:00\",\"2022-07-07T17:55:00\",\"2022-07-07T18:00:00\",\"2022-07-07T18:05:00\",\"2022-07-07T18:10:00\",\"2022-07-07T18:15:00\",\"2022-07-07T18:20:00\",\"2022-07-07T18:25:00\",\"2022-07-07T18:30:00\",\"2022-07-07T18:35:00\",\"2022-07-07T18:40:00\",\"2022-07-07T18:45:00\",\"2022-07-07T18:50:00\",\"2022-07-07T18:55:00\"],\"y\":[26812000.0,26857903.2,26915324.2,26919584.733333334,26912230.266666666,26890614.666666668,26864342.733333334,26883684.8,26888278.533333335,26855415.533333335,26871181.933333334,26877689.4,26888635.466666665,26868523.333333332,26891926.866666667,26863032.0,26852312.333333332,26839022.933333334,26912473.733333334,26845355.666666668,26860774.266666666,26879582.6,26854960.8,26869000.133333333,26893558.466666665,26882215.466666665],\"type\":\"scatter\",\"xaxis\":\"x\",\"yaxis\":\"y\"},{\"line\":{\"width\":0},\"marker\":{\"color\":\"rgb(179,226,205)\"},\"mode\":\"lines\",\"name\":\"Upper Bound\",\"showlegend\":false,\"x\":[\"2022-07-07T16:55:00\",\"2022-07-07T17:00:00\",\"2022-07-07T17:05:00\",\"2022-07-07T17:10:00\",\"2022-07-07T17:15:00\",\"2022-07-07T17:20:00\",\"2022-07-07T17:25:00\",\"2022-07-07T17:30:00\",\"2022-07-07T17:35:00\",\"2022-07-07T17:40:00\",\"2022-07-07T17:45:00\",\"2022-07-07T17:50:00\",\"2022-07-07T17:55:00\",\"2022-07-07T18:00:00\",\"2022-07-07T18:05:00\",\"2022-07-07T18:10:00\",\"2022-07-07T18:15:00\",\"2022-07-07T18:20:00\",\"2022-07-07T18:25:00\",\"2022-07-07T18:30:00\",\"2022-07-07T18:35:00\",\"2022-07-07T18:40:00\",\"2022-07-07T18:45:00\",\"2022-07-07T18:50:00\",\"2022-07-07T18:55:00\"],\"y\":[26982867.835253645,26980763.217076607,26979731.751563396,26979647.935405374,26980389.616567716,26981834.540261872,26983862.26433173,26986354.99034842,26989196.183061603,26992270.286963575,26995463.63679906,26998662.134390593,27001753.665918227,27004626.35069117,27007166.775303967,27009261.400554202,27010795.184076704,27011651.24187039,27011709.705413915,27010847.142891876,27008936.050368227,27005845.013376415,27001436.506065883,26995567.699782398,26988088.6160521],\"type\":\"scatter\",\"xaxis\":\"x2\",\"yaxis\":\"y2\"},{\"fill\":\"tonexty\",\"fillcolor\":\"rgba(179,226,205,0.7)\",\"line\":{\"width\":0},\"marker\":{\"color\":\"rgb(179,226,205)\"},\"mode\":\"lines\",\"name\":\"Confidence Interval\",\"showlegend\":false,\"x\":[\"2022-07-07T16:55:00\",\"2022-07-07T17:00:00\",\"2022-07-07T17:05:00\",\"2022-07-07T17:10:00\",\"2022-07-07T17:15:00\",\"2022-07-07T17:20:00\",\"2022-07-07T17:25:00\",\"2022-07-07T17:30:00\",\"2022-07-07T17:35:00\",\"2022-07-07T17:40:00\",\"2022-07-07T17:45:00\",\"2022-07-07T17:50:00\",\"2022-07-07T17:55:00\",\"2022-07-07T18:00:00\",\"2022-07-07T18:05:00\",\"2022-07-07T18:10:00\",\"2022-07-07T18:15:00\",\"2022-07-07T18:20:00\",\"2022-07-07T18:25:00\",\"2022-07-07T18:30:00\",\"2022-07-07T18:35:00\",\"2022-07-07T18:40:00\",\"2022-07-07T18:45:00\",\"2022-07-07T18:50:00\",\"2022-07-07T18:55:00\"],\"y\":[27434060.83141302,27430184.382923394,27427445.715103272,27425750.997927956,27425006.65009895,27425115.59307146,27425979.469001606,27427499.409651577,27429573.95027173,27432100.513036422,27434975.29653427,27438092.932276078,27441348.467415106,27444636.849308833,27447852.291362703,27450890.73277913,27453649.08258996,27456026.75812961,27457925.894586086,27459251.390441455,27459912.21629844,27459822.986623585,27458902.69393412,27457076.7002176,27454275.917281233],\"type\":\"scatter\",\"xaxis\":\"x2\",\"yaxis\":\"y2\"},{\"line\":{\"color\":\"red\"},\"name\":\"Trend average\",\"showlegend\":false,\"x\":[\"2022-07-07T16:55:00\",\"2022-07-07T17:00:00\",\"2022-07-07T17:05:00\",\"2022-07-07T17:10:00\",\"2022-07-07T17:15:00\",\"2022-07-07T17:20:00\",\"2022-07-07T17:25:00\",\"2022-07-07T17:30:00\",\"2022-07-07T17:35:00\",\"2022-07-07T17:40:00\",\"2022-07-07T17:45:00\",\"2022-07-07T17:50:00\",\"2022-07-07T17:55:00\",\"2022-07-07T18:00:00\",\"2022-07-07T18:05:00\",\"2022-07-07T18:10:00\",\"2022-07-07T18:15:00\",\"2022-07-07T18:20:00\",\"2022-07-07T18:25:00\",\"2022-07-07T18:30:00\",\"2022-07-07T18:35:00\",\"2022-07-07T18:40:00\",\"2022-07-07T18:45:00\",\"2022-07-07T18:50:00\",\"2022-07-07T18:55:00\"],\"y\":[27208464.333333332,27205473.8,27203588.733333334,27202699.466666665,27202698.133333333,27203475.066666666,27204920.866666667,27206927.2,27209385.066666666,27212185.4,27215219.466666665,27218377.533333335,27221551.066666666,27224631.6,27227509.533333335,27230076.066666666,27232222.133333333,27233839.0,27234817.8,27235049.266666666,27234424.133333333,27232834.0,27230169.6,27226322.2,27221182.266666666],\"type\":\"scatter\",\"xaxis\":\"x2\",\"yaxis\":\"y2\"},{\"line\":{\"width\":0},\"marker\":{\"color\":\"rgb(179,226,205)\"},\"mode\":\"lines\",\"name\":\"Upper Bound\",\"showlegend\":false,\"x\":[\"2022-07-07T16:55:00\",\"2022-07-07T17:00:00\",\"2022-07-07T17:05:00\",\"2022-07-07T17:10:00\",\"2022-07-07T17:15:00\",\"2022-07-07T17:20:00\",\"2022-07-07T17:25:00\",\"2022-07-07T17:30:00\",\"2022-07-07T17:35:00\",\"2022-07-07T17:40:00\",\"2022-07-07T17:45:00\",\"2022-07-07T17:50:00\",\"2022-07-07T17:55:00\",\"2022-07-07T18:00:00\",\"2022-07-07T18:05:00\",\"2022-07-07T18:10:00\",\"2022-07-07T18:15:00\",\"2022-07-07T18:20:00\",\"2022-07-07T18:25:00\",\"2022-07-07T18:30:00\",\"2022-07-07T18:35:00\",\"2022-07-07T18:40:00\",\"2022-07-07T18:45:00\",\"2022-07-07T18:50:00\",\"2022-07-07T18:55:00\"],\"y\":[36308585.69595945,36404261.219965324,36407229.83949419,36395600.24076919,36374928.65847391,36331805.1259506,36361258.85836494,36359869.17137407,36314351.956258476,36337663.497101374,36336228.830071904,36344877.1037251,36316782.837334715,36347625.8368032,36298127.830905326,36285217.138007134,36256097.36948766,36355365.43543129,36256853.68044564,36283327.8440719,36318333.69065564,36281135.82299122,36304160.04845908,36339035.5909903,36328761.53366962],\"type\":\"scatter\",\"xaxis\":\"x3\",\"yaxis\":\"y3\"},{\"fill\":\"tonexty\",\"fillcolor\":\"rgba(179,226,205,0.7)\",\"line\":{\"width\":0},\"marker\":{\"color\":\"rgb(179,226,205)\"},\"mode\":\"lines\",\"name\":\"Confidence Interval\",\"showlegend\":false,\"x\":[\"2022-07-07T16:55:00\",\"2022-07-07T17:00:00\",\"2022-07-07T17:05:00\",\"2022-07-07T17:10:00\",\"2022-07-07T17:15:00\",\"2022-07-07T17:20:00\",\"2022-07-07T17:25:00\",\"2022-07-07T17:30:00\",\"2022-07-07T17:35:00\",\"2022-07-07T17:40:00\",\"2022-07-07T17:45:00\",\"2022-07-07T17:50:00\",\"2022-07-07T17:55:00\",\"2022-07-07T18:00:00\",\"2022-07-07T18:05:00\",\"2022-07-07T18:10:00\",\"2022-07-07T18:15:00\",\"2022-07-07T18:20:00\",\"2022-07-07T18:25:00\",\"2022-07-07T18:30:00\",\"2022-07-07T18:35:00\",\"2022-07-07T18:40:00\",\"2022-07-07T18:45:00\",\"2022-07-07T18:50:00\",\"2022-07-07T18:55:00\"],\"y\":[36685282.57070722,36710429.71336801,36719753.093839146,36718451.75923081,36695894.541526094,36684920.4740494,36691259.80830173,36697823.36195926,36672698.44374153,36675321.03623196,36683701.5699281,36690628.76294156,36672152.09599862,36681954.69653013,36667907.63576134,36654245.7953262,36652494.363845676,36696894.03123538,36659212.18622102,36663114.02259476,36666972.97601103,36658107.91034211,36668491.68487425,36690427.609009705,36688295.53299704],\"type\":\"scatter\",\"xaxis\":\"x3\",\"yaxis\":\"y3\"},{\"line\":{\"color\":\"red\"},\"name\":\"Seasonality average\",\"showlegend\":false,\"x\":[\"2022-07-07T16:55:00\",\"2022-07-07T17:00:00\",\"2022-07-07T17:05:00\",\"2022-07-07T17:10:00\",\"2022-07-07T17:15:00\",\"2022-07-07T17:20:00\",\"2022-07-07T17:25:00\",\"2022-07-07T17:30:00\",\"2022-07-07T17:35:00\",\"2022-07-07T17:40:00\",\"2022-07-07T17:45:00\",\"2022-07-07T17:50:00\",\"2022-07-07T17:55:00\",\"2022-07-07T18:00:00\",\"2022-07-07T18:05:00\",\"2022-07-07T18:10:00\",\"2022-07-07T18:15:00\",\"2022-07-07T18:20:00\",\"2022-07-07T18:25:00\",\"2022-07-07T18:30:00\",\"2022-07-07T18:35:00\",\"2022-07-07T18:40:00\",\"2022-07-07T18:45:00\",\"2022-07-07T18:50:00\",\"2022-07-07T18:55:00\"],\"y\":[36496934.13333333,36557345.46666667,36563491.46666667,36557026.0,36535411.6,36508362.8,36526259.333333336,36528846.266666666,36493525.2,36506492.266666666,36509965.2,36517752.93333333,36494467.46666667,36514790.266666666,36483017.733333334,36469731.46666667,36454295.86666667,36526129.733333334,36458032.93333333,36473220.93333333,36492653.333333336,36469621.86666667,36486325.86666667,36514731.6,36508528.53333333],\"type\":\"scatter\",\"xaxis\":\"x3\",\"yaxis\":\"y3\"}],                        {\"template\":{\"data\":{\"bar\":[{\"error_x\":{\"color\":\"#2a3f5f\"},\"error_y\":{\"color\":\"#2a3f5f\"},\"marker\":{\"line\":{\"color\":\"#E5ECF6\",\"width\":0.5},\"pattern\":{\"fillmode\":\"overlay\",\"size\":10,\"solidity\":0.2}},\"type\":\"bar\"}],\"barpolar\":[{\"marker\":{\"line\":{\"color\":\"#E5ECF6\",\"width\":0.5},\"pattern\":{\"fillmode\":\"overlay\",\"size\":10,\"solidity\":0.2}},\"type\":\"barpolar\"}],\"carpet\":[{\"aaxis\":{\"endlinecolor\":\"#2a3f5f\",\"gridcolor\":\"white\",\"linecolor\":\"white\",\"minorgridcolor\":\"white\",\"startlinecolor\":\"#2a3f5f\"},\"baxis\":{\"endlinecolor\":\"#2a3f5f\",\"gridcolor\":\"white\",\"linecolor\":\"white\",\"minorgridcolor\":\"white\",\"startlinecolor\":\"#2a3f5f\"},\"type\":\"carpet\"}],\"choropleth\":[{\"colorbar\":{\"outlinewidth\":0,\"ticks\":\"\"},\"type\":\"choropleth\"}],\"contour\":[{\"colorbar\":{\"outlinewidth\":0,\"ticks\":\"\"},\"colorscale\":[[0.0,\"#0d0887\"],[0.1111111111111111,\"#46039f\"],[0.2222222222222222,\"#7201a8\"],[0.3333333333333333,\"#9c179e\"],[0.4444444444444444,\"#bd3786\"],[0.5555555555555556,\"#d8576b\"],[0.6666666666666666,\"#ed7953\"],[0.7777777777777778,\"#fb9f3a\"],[0.8888888888888888,\"#fdca26\"],[1.0,\"#f0f921\"]],\"type\":\"contour\"}],\"contourcarpet\":[{\"colorbar\":{\"outlinewidth\":0,\"ticks\":\"\"},\"type\":\"contourcarpet\"}],\"heatmap\":[{\"colorbar\":{\"outlinewidth\":0,\"ticks\":\"\"},\"colorscale\":[[0.0,\"#0d0887\"],[0.1111111111111111,\"#46039f\"],[0.2222222222222222,\"#7201a8\"],[0.3333333333333333,\"#9c179e\"],[0.4444444444444444,\"#bd3786\"],[0.5555555555555556,\"#d8576b\"],[0.6666666666666666,\"#ed7953\"],[0.7777777777777778,\"#fb9f3a\"],[0.8888888888888888,\"#fdca26\"],[1.0,\"#f0f921\"]],\"type\":\"heatmap\"}],\"heatmapgl\":[{\"colorbar\":{\"outlinewidth\":0,\"ticks\":\"\"},\"colorscale\":[[0.0,\"#0d0887\"],[0.1111111111111111,\"#46039f\"],[0.2222222222222222,\"#7201a8\"],[0.3333333333333333,\"#9c179e\"],[0.4444444444444444,\"#bd3786\"],[0.5555555555555556,\"#d8576b\"],[0.6666666666666666,\"#ed7953\"],[0.7777777777777778,\"#fb9f3a\"],[0.8888888888888888,\"#fdca26\"],[1.0,\"#f0f921\"]],\"type\":\"heatmapgl\"}],\"histogram\":[{\"marker\":{\"pattern\":{\"fillmode\":\"overlay\",\"size\":10,\"solidity\":0.2}},\"type\":\"histogram\"}],\"histogram2d\":[{\"colorbar\":{\"outlinewidth\":0,\"ticks\":\"\"},\"colorscale\":[[0.0,\"#0d0887\"],[0.1111111111111111,\"#46039f\"],[0.2222222222222222,\"#7201a8\"],[0.3333333333333333,\"#9c179e\"],[0.4444444444444444,\"#bd3786\"],[0.5555555555555556,\"#d8576b\"],[0.6666666666666666,\"#ed7953\"],[0.7777777777777778,\"#fb9f3a\"],[0.8888888888888888,\"#fdca26\"],[1.0,\"#f0f921\"]],\"type\":\"histogram2d\"}],\"histogram2dcontour\":[{\"colorbar\":{\"outlinewidth\":0,\"ticks\":\"\"},\"colorscale\":[[0.0,\"#0d0887\"],[0.1111111111111111,\"#46039f\"],[0.2222222222222222,\"#7201a8\"],[0.3333333333333333,\"#9c179e\"],[0.4444444444444444,\"#bd3786\"],[0.5555555555555556,\"#d8576b\"],[0.6666666666666666,\"#ed7953\"],[0.7777777777777778,\"#fb9f3a\"],[0.8888888888888888,\"#fdca26\"],[1.0,\"#f0f921\"]],\"type\":\"histogram2dcontour\"}],\"mesh3d\":[{\"colorbar\":{\"outlinewidth\":0,\"ticks\":\"\"},\"type\":\"mesh3d\"}],\"parcoords\":[{\"line\":{\"colorbar\":{\"outlinewidth\":0,\"ticks\":\"\"}},\"type\":\"parcoords\"}],\"pie\":[{\"automargin\":true,\"type\":\"pie\"}],\"scatter\":[{\"marker\":{\"colorbar\":{\"outlinewidth\":0,\"ticks\":\"\"}},\"type\":\"scatter\"}],\"scatter3d\":[{\"line\":{\"colorbar\":{\"outlinewidth\":0,\"ticks\":\"\"}},\"marker\":{\"colorbar\":{\"outlinewidth\":0,\"ticks\":\"\"}},\"type\":\"scatter3d\"}],\"scattercarpet\":[{\"marker\":{\"colorbar\":{\"outlinewidth\":0,\"ticks\":\"\"}},\"type\":\"scattercarpet\"}],\"scattergeo\":[{\"marker\":{\"colorbar\":{\"outlinewidth\":0,\"ticks\":\"\"}},\"type\":\"scattergeo\"}],\"scattergl\":[{\"marker\":{\"colorbar\":{\"outlinewidth\":0,\"ticks\":\"\"}},\"type\":\"scattergl\"}],\"scattermapbox\":[{\"marker\":{\"colorbar\":{\"outlinewidth\":0,\"ticks\":\"\"}},\"type\":\"scattermapbox\"}],\"scatterpolar\":[{\"marker\":{\"colorbar\":{\"outlinewidth\":0,\"ticks\":\"\"}},\"type\":\"scatterpolar\"}],\"scatterpolargl\":[{\"marker\":{\"colorbar\":{\"outlinewidth\":0,\"ticks\":\"\"}},\"type\":\"scatterpolargl\"}],\"scatterternary\":[{\"marker\":{\"colorbar\":{\"outlinewidth\":0,\"ticks\":\"\"}},\"type\":\"scatterternary\"}],\"surface\":[{\"colorbar\":{\"outlinewidth\":0,\"ticks\":\"\"},\"colorscale\":[[0.0,\"#0d0887\"],[0.1111111111111111,\"#46039f\"],[0.2222222222222222,\"#7201a8\"],[0.3333333333333333,\"#9c179e\"],[0.4444444444444444,\"#bd3786\"],[0.5555555555555556,\"#d8576b\"],[0.6666666666666666,\"#ed7953\"],[0.7777777777777778,\"#fb9f3a\"],[0.8888888888888888,\"#fdca26\"],[1.0,\"#f0f921\"]],\"type\":\"surface\"}],\"table\":[{\"cells\":{\"fill\":{\"color\":\"#EBF0F8\"},\"line\":{\"color\":\"white\"}},\"header\":{\"fill\":{\"color\":\"#C8D4E3\"},\"line\":{\"color\":\"white\"}},\"type\":\"table\"}]},\"layout\":{\"annotationdefaults\":{\"arrowcolor\":\"#2a3f5f\",\"arrowhead\":0,\"arrowwidth\":1},\"autotypenumbers\":\"strict\",\"coloraxis\":{\"colorbar\":{\"outlinewidth\":0,\"ticks\":\"\"}},\"colorscale\":{\"diverging\":[[0,\"#8e0152\"],[0.1,\"#c51b7d\"],[0.2,\"#de77ae\"],[0.3,\"#f1b6da\"],[0.4,\"#fde0ef\"],[0.5,\"#f7f7f7\"],[0.6,\"#e6f5d0\"],[0.7,\"#b8e186\"],[0.8,\"#7fbc41\"],[0.9,\"#4d9221\"],[1,\"#276419\"]],\"sequential\":[[0.0,\"#0d0887\"],[0.1111111111111111,\"#46039f\"],[0.2222222222222222,\"#7201a8\"],[0.3333333333333333,\"#9c179e\"],[0.4444444444444444,\"#bd3786\"],[0.5555555555555556,\"#d8576b\"],[0.6666666666666666,\"#ed7953\"],[0.7777777777777778,\"#fb9f3a\"],[0.8888888888888888,\"#fdca26\"],[1.0,\"#f0f921\"]],\"sequentialminus\":[[0.0,\"#0d0887\"],[0.1111111111111111,\"#46039f\"],[0.2222222222222222,\"#7201a8\"],[0.3333333333333333,\"#9c179e\"],[0.4444444444444444,\"#bd3786\"],[0.5555555555555556,\"#d8576b\"],[0.6666666666666666,\"#ed7953\"],[0.7777777777777778,\"#fb9f3a\"],[0.8888888888888888,\"#fdca26\"],[1.0,\"#f0f921\"]]},\"colorway\":[\"#636efa\",\"#EF553B\",\"#00cc96\",\"#ab63fa\",\"#FFA15A\",\"#19d3f3\",\"#FF6692\",\"#B6E880\",\"#FF97FF\",\"#FECB52\"],\"font\":{\"color\":\"#2a3f5f\"},\"geo\":{\"bgcolor\":\"white\",\"lakecolor\":\"white\",\"landcolor\":\"#E5ECF6\",\"showlakes\":true,\"showland\":true,\"subunitcolor\":\"white\"},\"hoverlabel\":{\"align\":\"left\"},\"hovermode\":\"closest\",\"mapbox\":{\"style\":\"light\"},\"paper_bgcolor\":\"white\",\"plot_bgcolor\":\"#E5ECF6\",\"polar\":{\"angularaxis\":{\"gridcolor\":\"white\",\"linecolor\":\"white\",\"ticks\":\"\"},\"bgcolor\":\"#E5ECF6\",\"radialaxis\":{\"gridcolor\":\"white\",\"linecolor\":\"white\",\"ticks\":\"\"}},\"scene\":{\"xaxis\":{\"backgroundcolor\":\"#E5ECF6\",\"gridcolor\":\"white\",\"gridwidth\":2,\"linecolor\":\"white\",\"showbackground\":true,\"ticks\":\"\",\"zerolinecolor\":\"white\"},\"yaxis\":{\"backgroundcolor\":\"#E5ECF6\",\"gridcolor\":\"white\",\"gridwidth\":2,\"linecolor\":\"white\",\"showbackground\":true,\"ticks\":\"\",\"zerolinecolor\":\"white\"},\"zaxis\":{\"backgroundcolor\":\"#E5ECF6\",\"gridcolor\":\"white\",\"gridwidth\":2,\"linecolor\":\"white\",\"showbackground\":true,\"ticks\":\"\",\"zerolinecolor\":\"white\"}},\"shapedefaults\":{\"line\":{\"color\":\"#2a3f5f\"}},\"ternary\":{\"aaxis\":{\"gridcolor\":\"white\",\"linecolor\":\"white\",\"ticks\":\"\"},\"baxis\":{\"gridcolor\":\"white\",\"linecolor\":\"white\",\"ticks\":\"\"},\"bgcolor\":\"#E5ECF6\",\"caxis\":{\"gridcolor\":\"white\",\"linecolor\":\"white\",\"ticks\":\"\"}},\"title\":{\"x\":0.05},\"xaxis\":{\"automargin\":true,\"gridcolor\":\"white\",\"linecolor\":\"white\",\"ticks\":\"\",\"title\":{\"standoff\":15},\"zerolinecolor\":\"white\",\"zerolinewidth\":2},\"yaxis\":{\"automargin\":true,\"gridcolor\":\"white\",\"linecolor\":\"white\",\"ticks\":\"\",\"title\":{\"standoff\":15},\"zerolinecolor\":\"white\",\"zerolinewidth\":2}}},\"xaxis\":{\"anchor\":\"y\",\"domain\":[0.0,0.57],\"showline\":true,\"linewidth\":1,\"linecolor\":\"black\",\"mirror\":true},\"yaxis\":{\"anchor\":\"x\",\"domain\":[0.0,1.0],\"showline\":true,\"linewidth\":1,\"linecolor\":\"black\",\"mirror\":true},\"xaxis2\":{\"anchor\":\"y2\",\"domain\":[0.62,1.0],\"showline\":true,\"linewidth\":1,\"linecolor\":\"black\",\"mirror\":true},\"yaxis2\":{\"anchor\":\"x2\",\"domain\":[0.55,1.0],\"showline\":true,\"linewidth\":1,\"linecolor\":\"black\",\"mirror\":true},\"xaxis3\":{\"anchor\":\"y3\",\"domain\":[0.62,1.0],\"showline\":true,\"linewidth\":1,\"linecolor\":\"black\",\"mirror\":true},\"yaxis3\":{\"anchor\":\"x3\",\"domain\":[0.0,0.45],\"showline\":true,\"linewidth\":1,\"linecolor\":\"black\",\"mirror\":true},\"annotations\":[{\"font\":{\"size\":16},\"showarrow\":false,\"text\":\"True Vs Predicted\",\"x\":0.285,\"xanchor\":\"center\",\"xref\":\"paper\",\"y\":1.0,\"yanchor\":\"bottom\",\"yref\":\"paper\"},{\"font\":{\"size\":16},\"showarrow\":false,\"text\":\"Trend\",\"x\":0.81,\"xanchor\":\"center\",\"xref\":\"paper\",\"y\":1.0,\"yanchor\":\"bottom\",\"yref\":\"paper\"},{\"font\":{\"size\":16},\"showarrow\":false,\"text\":\"Seasonality\",\"x\":0.81,\"xanchor\":\"center\",\"xref\":\"paper\",\"y\":0.45,\"yanchor\":\"bottom\",\"yref\":\"paper\"}],\"shapes\":[{\"line\":{\"color\":\"black\",\"dash\":\"dash\",\"width\":1},\"type\":\"line\",\"x0\":\"2022-07-07T16:50:00\",\"x1\":\"2022-07-07T16:50:00\",\"xref\":\"x\",\"y0\":26593057.077305906,\"y1\":27131915.531187773,\"yref\":\"y\"}],\"title\":{\"text\":\"Bitcoin Price Prediction\"},\"height\":550,\"width\":1200},                        {\"responsive\": true}                    ).then(function(){\n",
              "                            \n",
              "var gd = document.getElementById('668c1b23-a6e3-4fc3-9145-84e1198cc5d6');\n",
              "var x = new MutationObserver(function (mutations, observer) {{\n",
              "        var display = window.getComputedStyle(gd).display;\n",
              "        if (!display || display === 'none') {{\n",
              "            console.log([gd, 'removed!']);\n",
              "            Plotly.purge(gd);\n",
              "            observer.disconnect();\n",
              "        }}\n",
              "}});\n",
              "\n",
              "// Listen for the removal of the full notebook cells\n",
              "var notebookContainer = gd.closest('#notebook-container');\n",
              "if (notebookContainer) {{\n",
              "    x.observe(notebookContainer, {childList: true});\n",
              "}}\n",
              "\n",
              "// Listen for the clearing of the current output cell\n",
              "var outputEl = gd.closest('.output');\n",
              "if (outputEl) {{\n",
              "    x.observe(outputEl, {childList: true});\n",
              "}}\n",
              "\n",
              "                        })                };                            </script>        </div>\n",
              "</body>\n",
              "</html>"
            ]
          },
          "metadata": {}
        }
      ]
    }
  ]
}